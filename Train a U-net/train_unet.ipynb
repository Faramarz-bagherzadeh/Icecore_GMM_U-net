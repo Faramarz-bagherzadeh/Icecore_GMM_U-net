{
 "cells": [
  {
   "cell_type": "code",
   "execution_count": 1,
   "id": "56f07312",
   "metadata": {},
   "outputs": [
    {
     "data": {
      "text/plain": [
       "<torch._C.Generator at 0x21397357730>"
      ]
     },
     "execution_count": 1,
     "metadata": {},
     "output_type": "execute_result"
    }
   ],
   "source": [
    "from train import main\n",
    "import numpy as np\n",
    "from PIL import Image\n",
    "import cv2\n",
    "import torch\n",
    "from utils import get_loaders\n",
    "from tqdm import tqdm\n",
    "import matplotlib.pyplot as plt\n",
    "import os\n",
    "from model import UNET\n",
    "torch.manual_seed(0)"
   ]
  },
  {
   "cell_type": "code",
   "execution_count": 2,
   "id": "6ef7ced3",
   "metadata": {
    "scrolled": true
   },
   "outputs": [
    {
     "name": "stdout",
     "output_type": "stream",
     "text": [
      "validation accuracy\n",
      "Got 4515021050/6698303488 with acc 67.41\n",
      "loss =  0.6896365832446438\n",
      "Dice score: 0.0\n",
      "train accuracy\n",
      "Got 17135550678/25983713280 with acc 65.95\n",
      "loss =  0.6888707670499664\n",
      "Dice score: 0.0\n",
      "=> Saving checkpoint\n"
     ]
    },
    {
     "name": "stderr",
     "output_type": "stream",
     "text": [
      "100%|██████████| 6195/6195 [30:32<00:00,  3.38it/s, loss=0.0512]  \n"
     ]
    },
    {
     "name": "stdout",
     "output_type": "stream",
     "text": [
      "validation accuracy\n",
      "Got 6499777011/6698303488 with acc 97.04\n",
      "loss =  0.08213144111223682\n",
      "Dice score: 0.9006701707839966\n",
      "train accuracy\n",
      "Got 25225728930/25983713280 with acc 97.08\n",
      "loss =  0.07895498846994324\n",
      "Dice score: 0.8902033567428589\n",
      "=> Saving checkpoint\n"
     ]
    },
    {
     "name": "stderr",
     "output_type": "stream",
     "text": [
      "100%|██████████| 6195/6195 [30:00<00:00,  3.44it/s, loss=0.0846]  \n"
     ]
    },
    {
     "name": "stdout",
     "output_type": "stream",
     "text": [
      "validation accuracy\n",
      "Got 6550004950/6698303488 with acc 97.79\n",
      "loss =  0.07636879809444529\n",
      "Dice score: 0.9196415543556213\n",
      "train accuracy\n",
      "Got 25415337019/25983713280 with acc 97.81\n",
      "loss =  0.06423865961854454\n",
      "Dice score: 0.9097813367843628\n",
      "=> Saving checkpoint\n"
     ]
    },
    {
     "name": "stderr",
     "output_type": "stream",
     "text": [
      "100%|██████████| 6195/6195 [29:59<00:00,  3.44it/s, loss=0.0728]  \n"
     ]
    },
    {
     "name": "stdout",
     "output_type": "stream",
     "text": [
      "validation accuracy\n",
      "Got 6550219456/6698303488 with acc 97.79\n",
      "loss =  0.07091272496907\n",
      "Dice score: 0.9197669625282288\n",
      "train accuracy\n",
      "Got 25420124599/25983713280 with acc 97.83\n",
      "loss =  0.06189162197774019\n",
      "Dice score: 0.9103401303291321\n",
      "=> Saving checkpoint\n"
     ]
    },
    {
     "name": "stderr",
     "output_type": "stream",
     "text": [
      "100%|██████████| 6195/6195 [29:56<00:00,  3.45it/s, loss=0.0305]  \n"
     ]
    },
    {
     "name": "stdout",
     "output_type": "stream",
     "text": [
      "validation accuracy\n",
      "Got 6568919300/6698303488 with acc 98.07\n",
      "loss =  0.06751594543585329\n",
      "Dice score: 0.9263706803321838\n",
      "train accuracy\n",
      "Got 25484647730/25983713280 with acc 98.08\n",
      "loss =  0.058135893797816494\n",
      "Dice score: 0.9174094796180725\n",
      "=> Saving checkpoint\n"
     ]
    },
    {
     "name": "stderr",
     "output_type": "stream",
     "text": [
      "100%|██████████| 6195/6195 [29:54<00:00,  3.45it/s, loss=0.0134]  \n"
     ]
    },
    {
     "name": "stdout",
     "output_type": "stream",
     "text": [
      "validation accuracy\n",
      "Got 6577953335/6698303488 with acc 98.20\n",
      "loss =  0.06245246285172593\n",
      "Dice score: 0.9299010038375854\n",
      "train accuracy\n",
      "Got 25513842428/25983713280 with acc 98.19\n",
      "loss =  0.054375032518997245\n",
      "Dice score: 0.9209405183792114\n",
      "=> Saving checkpoint\n"
     ]
    },
    {
     "name": "stderr",
     "output_type": "stream",
     "text": [
      "100%|██████████| 6195/6195 [29:56<00:00,  3.45it/s, loss=0.106]   \n"
     ]
    },
    {
     "name": "stdout",
     "output_type": "stream",
     "text": [
      "validation accuracy\n",
      "Got 6570290441/6698303488 with acc 98.09\n",
      "loss =  0.06522230016861902\n",
      "Dice score: 0.9269031286239624\n",
      "train accuracy\n",
      "Got 25487877591/25983713280 with acc 98.09\n",
      "loss =  0.05539412259583762\n",
      "Dice score: 0.9172128438949585\n",
      "=> Saving checkpoint\n"
     ]
    },
    {
     "name": "stderr",
     "output_type": "stream",
     "text": [
      "100%|██████████| 6195/6195 [29:54<00:00,  3.45it/s, loss=0.0619]  \n"
     ]
    },
    {
     "name": "stdout",
     "output_type": "stream",
     "text": [
      "validation accuracy\n",
      "Got 6579390511/6698303488 with acc 98.22\n",
      "loss =  0.05665994363119062\n",
      "Dice score: 0.9304433465003967\n",
      "train accuracy\n",
      "Got 25520275741/25983713280 with acc 98.22\n",
      "loss =  0.05140421495626639\n",
      "Dice score: 0.9211235046386719\n",
      "=> Saving checkpoint\n"
     ]
    },
    {
     "name": "stderr",
     "output_type": "stream",
     "text": [
      "100%|██████████| 6195/6195 [29:56<00:00,  3.45it/s, loss=0.0725]  \n"
     ]
    },
    {
     "name": "stdout",
     "output_type": "stream",
     "text": [
      "validation accuracy\n",
      "Got 6558790541/6698303488 with acc 97.92\n",
      "loss =  0.06449248587844442\n",
      "Dice score: 0.9233810901641846\n",
      "train accuracy\n",
      "Got 25459532007/25983713280 with acc 97.98\n",
      "loss =  0.05607486433988166\n",
      "Dice score: 0.9150223135948181\n",
      "=> Saving checkpoint\n"
     ]
    },
    {
     "name": "stderr",
     "output_type": "stream",
     "text": [
      "100%|██████████| 6195/6195 [29:55<00:00,  3.45it/s, loss=0.0742]  \n"
     ]
    },
    {
     "name": "stdout",
     "output_type": "stream",
     "text": [
      "validation accuracy\n",
      "Got 6581069911/6698303488 with acc 98.25\n",
      "loss =  0.05817749427308421\n",
      "Dice score: 0.9307828545570374\n",
      "train accuracy\n",
      "Got 25527141317/25983713280 with acc 98.24\n",
      "loss =  0.05330902608613007\n",
      "Dice score: 0.921586275100708\n",
      "=> Saving checkpoint\n"
     ]
    },
    {
     "name": "stderr",
     "output_type": "stream",
     "text": [
      "100%|██████████| 6195/6195 [29:53<00:00,  3.46it/s, loss=0.0151]  \n"
     ]
    },
    {
     "name": "stdout",
     "output_type": "stream",
     "text": [
      "validation accuracy\n",
      "Got 6584135125/6698303488 with acc 98.30\n",
      "loss =  0.059008566285941325\n",
      "Dice score: 0.9314968585968018\n",
      "train accuracy\n",
      "Got 25533804165/25983713280 with acc 98.27\n",
      "loss =  0.050001964112727296\n",
      "Dice score: 0.9221188426017761\n",
      "=> Saving checkpoint\n"
     ]
    },
    {
     "name": "stderr",
     "output_type": "stream",
     "text": [
      "100%|██████████| 6195/6195 [29:54<00:00,  3.45it/s, loss=0.0278]  \n"
     ]
    },
    {
     "name": "stdout",
     "output_type": "stream",
     "text": [
      "validation accuracy\n",
      "Got 6579618411/6698303488 with acc 98.23\n",
      "loss =  0.05383170994363711\n",
      "Dice score: 0.9302901029586792\n",
      "train accuracy\n",
      "Got 25516853433/25983713280 with acc 98.20\n",
      "loss =  0.04912562031099083\n",
      "Dice score: 0.9208476543426514\n",
      "=> Saving checkpoint\n"
     ]
    },
    {
     "name": "stderr",
     "output_type": "stream",
     "text": [
      "100%|██████████| 6195/6195 [29:53<00:00,  3.45it/s, loss=0.0491]  \n"
     ]
    },
    {
     "name": "stdout",
     "output_type": "stream",
     "text": [
      "validation accuracy\n",
      "Got 6571704146/6698303488 with acc 98.11\n",
      "loss =  0.061983208524841175\n",
      "Dice score: 0.9275504350662231\n",
      "train accuracy\n",
      "Got 25494648338/25983713280 with acc 98.12\n",
      "loss =  0.05693115837567789\n",
      "Dice score: 0.9185361266136169\n",
      "=> Saving checkpoint\n"
     ]
    },
    {
     "name": "stderr",
     "output_type": "stream",
     "text": [
      "100%|██████████| 6195/6195 [29:55<00:00,  3.45it/s, loss=0.0512]  \n"
     ]
    },
    {
     "name": "stdout",
     "output_type": "stream",
     "text": [
      "validation accuracy\n",
      "Got 6574576518/6698303488 with acc 98.15\n",
      "loss =  0.065326067223928\n",
      "Dice score: 0.9303990602493286\n",
      "train accuracy\n",
      "Got 25534105327/25983713280 with acc 98.27\n",
      "loss =  0.05055627621317211\n",
      "Dice score: 0.9222571849822998\n",
      "=> Saving checkpoint\n"
     ]
    },
    {
     "name": "stderr",
     "output_type": "stream",
     "text": [
      "100%|██████████| 6195/6195 [29:54<00:00,  3.45it/s, loss=0.0648]  \n"
     ]
    },
    {
     "name": "stdout",
     "output_type": "stream",
     "text": [
      "validation accuracy\n",
      "Got 6579821677/6698303488 with acc 98.23\n",
      "loss =  0.05719825004285193\n",
      "Dice score: 0.9324896335601807\n",
      "train accuracy\n",
      "Got 25540631805/25983713280 with acc 98.29\n",
      "loss =  0.047447988200569634\n",
      "Dice score: 0.9230777621269226\n",
      "=> Saving checkpoint\n"
     ]
    },
    {
     "name": "stderr",
     "output_type": "stream",
     "text": [
      "100%|██████████| 6195/6195 [30:11<00:00,  3.42it/s, loss=0.0164]  \n"
     ]
    },
    {
     "name": "stdout",
     "output_type": "stream",
     "text": [
      "validation accuracy\n",
      "Got 6583085625/6698303488 with acc 98.28\n",
      "loss =  0.052346312552317274\n",
      "Dice score: 0.9310464859008789\n",
      "train accuracy\n",
      "Got 25533392501/25983713280 with acc 98.27\n",
      "loss =  0.04721769640676296\n",
      "Dice score: 0.9221760034561157\n",
      "=> Saving checkpoint\n"
     ]
    },
    {
     "name": "stderr",
     "output_type": "stream",
     "text": [
      "100%|██████████| 6195/6195 [30:20<00:00,  3.40it/s, loss=0.000569]\n"
     ]
    },
    {
     "name": "stdout",
     "output_type": "stream",
     "text": [
      "validation accuracy\n",
      "Got 6582752824/6698303488 with acc 98.27\n",
      "loss =  0.0527079901707568\n",
      "Dice score: 0.9309465289115906\n",
      "train accuracy\n",
      "Got 25536288323/25983713280 with acc 98.28\n",
      "loss =  0.04724404655720369\n",
      "Dice score: 0.9223295450210571\n",
      "=> Saving checkpoint\n"
     ]
    },
    {
     "name": "stderr",
     "output_type": "stream",
     "text": [
      "100%|██████████| 6195/6195 [30:35<00:00,  3.37it/s, loss=0.0234]  \n"
     ]
    },
    {
     "name": "stdout",
     "output_type": "stream",
     "text": [
      "validation accuracy\n",
      "Got 6584909804/6698303488 with acc 98.31\n",
      "loss =  0.07203970460510424\n",
      "Dice score: 0.9331427812576294\n",
      "train accuracy\n",
      "Got 25543324289/25983713280 with acc 98.31\n",
      "loss =  0.05359432704243478\n",
      "Dice score: 0.9235032200813293\n",
      "=> Saving checkpoint\n"
     ]
    },
    {
     "name": "stderr",
     "output_type": "stream",
     "text": [
      "100%|██████████| 6195/6195 [30:22<00:00,  3.40it/s, loss=0.0259]  \n"
     ]
    },
    {
     "name": "stdout",
     "output_type": "stream",
     "text": [
      "validation accuracy\n",
      "Got 6573731632/6698303488 with acc 98.14\n",
      "loss =  0.053144892302103244\n",
      "Dice score: 0.9301116466522217\n",
      "train accuracy\n",
      "Got 25538156535/25983713280 with acc 98.29\n",
      "loss =  0.04470393756272671\n",
      "Dice score: 0.9226227402687073\n",
      "=> Saving checkpoint\n"
     ]
    },
    {
     "name": "stderr",
     "output_type": "stream",
     "text": [
      "100%|██████████| 6195/6195 [30:39<00:00,  3.37it/s, loss=0.0414]  \n"
     ]
    },
    {
     "name": "stdout",
     "output_type": "stream",
     "text": [
      "validation accuracy\n",
      "Got 6581087447/6698303488 with acc 98.25\n",
      "loss =  0.06082759870119444\n",
      "Dice score: 0.9308009147644043\n",
      "train accuracy\n",
      "Got 25540714606/25983713280 with acc 98.30\n",
      "loss =  0.04886173231155977\n",
      "Dice score: 0.9229289293289185\n",
      "=> Saving checkpoint\n"
     ]
    },
    {
     "name": "stderr",
     "output_type": "stream",
     "text": [
      "100%|██████████| 6195/6195 [29:51<00:00,  3.46it/s, loss=0.00978] \n"
     ]
    },
    {
     "name": "stdout",
     "output_type": "stream",
     "text": [
      "validation accuracy\n",
      "Got 6577766422/6698303488 with acc 98.20\n",
      "loss =  0.05632984757880606\n",
      "Dice score: 0.931740403175354\n",
      "train accuracy\n",
      "Got 25536318684/25983713280 with acc 98.28\n",
      "loss =  0.04604256636983592\n",
      "Dice score: 0.922401487827301\n",
      "=> Saving checkpoint\n"
     ]
    },
    {
     "name": "stderr",
     "output_type": "stream",
     "text": [
      "100%|██████████| 6195/6195 [30:25<00:00,  3.39it/s, loss=0.0254]  \n"
     ]
    },
    {
     "name": "stdout",
     "output_type": "stream",
     "text": [
      "validation accuracy\n",
      "Got 6581455846/6698303488 with acc 98.26\n",
      "loss =  0.05451718900345719\n",
      "Dice score: 0.9315134286880493\n",
      "train accuracy\n",
      "Got 25544350794/25983713280 with acc 98.31\n",
      "loss =  0.045989728910726044\n",
      "Dice score: 0.9230765104293823\n",
      "=> Saving checkpoint\n"
     ]
    },
    {
     "name": "stderr",
     "output_type": "stream",
     "text": [
      "100%|██████████| 6195/6195 [29:52<00:00,  3.46it/s, loss=0.0657]  \n"
     ]
    },
    {
     "name": "stdout",
     "output_type": "stream",
     "text": [
      "validation accuracy\n",
      "Got 6493370105/6698303488 with acc 96.94\n",
      "loss =  0.07057688265115153\n",
      "Dice score: 0.9174413681030273\n",
      "train accuracy\n",
      "Got 25558128450/25983713280 with acc 98.36\n",
      "loss =  0.0470045726088055\n",
      "Dice score: 0.92381751537323\n",
      "=> Saving checkpoint\n"
     ]
    },
    {
     "name": "stderr",
     "output_type": "stream",
     "text": [
      "100%|██████████| 6195/6195 [29:51<00:00,  3.46it/s, loss=0.0489]  \n"
     ]
    },
    {
     "name": "stdout",
     "output_type": "stream",
     "text": [
      "validation accuracy\n",
      "Got 6572029215/6698303488 with acc 98.11\n",
      "loss =  0.07428662153456592\n",
      "Dice score: 0.926773190498352\n",
      "train accuracy\n",
      "Got 25511910962/25983713280 with acc 98.18\n",
      "loss =  0.05467277356814589\n",
      "Dice score: 0.9200149178504944\n",
      "=> Saving checkpoint\n"
     ]
    },
    {
     "name": "stderr",
     "output_type": "stream",
     "text": [
      "100%|██████████| 6195/6195 [29:51<00:00,  3.46it/s, loss=0.0581]  \n"
     ]
    },
    {
     "name": "stdout",
     "output_type": "stream",
     "text": [
      "validation accuracy\n",
      "Got 6450307887/6698303488 with acc 96.30\n",
      "loss =  0.07389823409496021\n",
      "Dice score: 0.9049180150032043\n",
      "train accuracy\n",
      "Got 25470740665/25983713280 with acc 98.03\n",
      "loss =  0.050792104010492764\n",
      "Dice score: 0.9169247150421143\n",
      "=> Saving checkpoint\n"
     ]
    },
    {
     "name": "stderr",
     "output_type": "stream",
     "text": [
      "100%|██████████| 6195/6195 [29:50<00:00,  3.46it/s, loss=0.045]   \n"
     ]
    },
    {
     "name": "stdout",
     "output_type": "stream",
     "text": [
      "validation accuracy\n",
      "Got 6447761072/6698303488 with acc 96.26\n",
      "loss =  0.12643046627309856\n",
      "Dice score: 0.906237006187439\n",
      "train accuracy\n",
      "Got 25552064320/25983713280 with acc 98.34\n",
      "loss =  0.0436887229441214\n",
      "Dice score: 0.9225001335144043\n",
      "=> Saving checkpoint\n"
     ]
    },
    {
     "name": "stderr",
     "output_type": "stream",
     "text": [
      "100%|██████████| 6195/6195 [29:51<00:00,  3.46it/s, loss=0.0241]  \n"
     ]
    },
    {
     "name": "stdout",
     "output_type": "stream",
     "text": [
      "validation accuracy\n",
      "Got 6498378478/6698303488 with acc 97.02\n",
      "loss =  0.07052008453674927\n",
      "Dice score: 0.9075350761413574\n",
      "train accuracy\n",
      "Got 25358789097/25983713280 with acc 97.59\n",
      "loss =  0.05985611848516899\n",
      "Dice score: 0.9049676656723022\n",
      "=> Saving checkpoint\n"
     ]
    },
    {
     "name": "stderr",
     "output_type": "stream",
     "text": [
      "100%|██████████| 6195/6195 [29:51<00:00,  3.46it/s, loss=0.0467]  \n"
     ]
    },
    {
     "name": "stdout",
     "output_type": "stream",
     "text": [
      "validation accuracy\n",
      "Got 6459526458/6698303488 with acc 96.44\n",
      "loss =  0.06421520511993559\n",
      "Dice score: 0.9080455899238586\n",
      "train accuracy\n",
      "Got 25548607633/25983713280 with acc 98.33\n",
      "loss =  0.04297509647153942\n",
      "Dice score: 0.9217813611030579\n",
      "=> Saving checkpoint\n"
     ]
    },
    {
     "name": "stderr",
     "output_type": "stream",
     "text": [
      "100%|██████████| 6195/6195 [29:54<00:00,  3.45it/s, loss=0.029]   \n"
     ]
    },
    {
     "name": "stdout",
     "output_type": "stream",
     "text": [
      "validation accuracy\n",
      "Got 6527563155/6698303488 with acc 97.45\n",
      "loss =  0.06985962375737237\n",
      "Dice score: 0.9239501953125\n",
      "train accuracy\n",
      "Got 25557550322/25983713280 with acc 98.36\n",
      "loss =  0.043395258382020935\n",
      "Dice score: 0.9233273863792419\n",
      "=> Saving checkpoint\n"
     ]
    },
    {
     "name": "stderr",
     "output_type": "stream",
     "text": [
      "100%|██████████| 6195/6195 [29:49<00:00,  3.46it/s, loss=0.0645]  \n"
     ]
    },
    {
     "name": "stdout",
     "output_type": "stream",
     "text": [
      "validation accuracy\n",
      "Got 6487514238/6698303488 with acc 96.85\n",
      "loss =  0.06747065225712903\n",
      "Dice score: 0.9168274402618408\n",
      "train accuracy\n",
      "Got 25541431683/25983713280 with acc 98.30\n",
      "loss =  0.046538646494373774\n",
      "Dice score: 0.9222722053527832\n",
      "=> Saving checkpoint\n"
     ]
    },
    {
     "name": "stderr",
     "output_type": "stream",
     "text": [
      "100%|██████████| 6195/6195 [29:53<00:00,  3.46it/s, loss=0.0229]  \n"
     ]
    }
   ],
   "source": [
    "main()"
   ]
  },
  {
   "cell_type": "code",
   "execution_count": null,
   "id": "8e4e7a15",
   "metadata": {},
   "outputs": [],
   "source": []
  }
 ],
 "metadata": {
  "kernelspec": {
   "display_name": "Python 3 (ipykernel)",
   "language": "python",
   "name": "python3"
  },
  "language_info": {
   "codemirror_mode": {
    "name": "ipython",
    "version": 3
   },
   "file_extension": ".py",
   "mimetype": "text/x-python",
   "name": "python",
   "nbconvert_exporter": "python",
   "pygments_lexer": "ipython3",
   "version": "3.10.4"
  }
 },
 "nbformat": 4,
 "nbformat_minor": 5
}
