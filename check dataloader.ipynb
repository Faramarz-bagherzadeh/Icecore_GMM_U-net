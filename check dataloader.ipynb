{
 "cells": [
  {
   "cell_type": "code",
   "execution_count": 1,
   "id": "56f07312",
   "metadata": {},
   "outputs": [],
   "source": [
    "from train import main\n",
    "import numpy as np\n",
    "from PIL import Image\n",
    "import cv2\n",
    "import torch\n",
    "from utils import get_loaders\n",
    "from tqdm import tqdm\n",
    "import matplotlib.pyplot as plt\n",
    "import os\n",
    "from model import UNET"
   ]
  },
  {
   "cell_type": "code",
   "execution_count": 3,
   "id": "9d985bd6",
   "metadata": {},
   "outputs": [],
   "source": [
    "LEARNING_RATE = 0.001\n",
    "DEVICE = \"cuda\" if torch.cuda.is_available() else \"cpu\"\n",
    "BATCH_SIZE = 4\n",
    "NUM_EPOCHS = 10\n",
    "NUM_WORKERS = 4\n",
    "IMAGE_HEIGHT = 512  # 2024 originally\n",
    "IMAGE_WIDTH = 512  # 2024 originally\n",
    "PIN_MEMORY = True\n",
    "LOAD_MODEL = False\n",
    "TRAIN_IMG_DIR = \"D:data//train_images//\"\n",
    "TRAIN_MASK_DIR = \"D:data//train_masks//\"\n",
    "VAL_IMG_DIR = \"D:data//val_images//\"\n",
    "VAL_MASK_DIR = \"D:data//val_masks//\"\n",
    "train_loader, val_loader = get_loaders(\n",
    "    TRAIN_IMG_DIR,\n",
    "    TRAIN_MASK_DIR,\n",
    "    VAL_IMG_DIR,\n",
    "    VAL_MASK_DIR,\n",
    "    BATCH_SIZE,\n",
    "    None,\n",
    "    None,\n",
    "    NUM_WORKERS,\n",
    "    PIN_MEMORY,)"
   ]
  },
  {
   "cell_type": "code",
   "execution_count": 5,
   "id": "1915e820",
   "metadata": {},
   "outputs": [
    {
     "name": "stderr",
     "output_type": "stream",
     "text": [
      "  0%|          | 0/501 [00:05<?, ?it/s]\n"
     ]
    }
   ],
   "source": [
    "loop = tqdm (train_loader)\n",
    "for batch_idx , (data, targets) in enumerate (loop):\n",
    "    data = data.to(DEVICE)\n",
    "    targets = targets.float().unsqueeze(1).to(device = DEVICE)\n",
    "    break\n",
    "\n"
   ]
  },
  {
   "cell_type": "code",
   "execution_count": 6,
   "id": "684dd6b6",
   "metadata": {},
   "outputs": [],
   "source": [
    "data = data.to('cpu')\n",
    "targets = targets.to('cpu')\n",
    "data =  data.numpy()\n",
    "targets = targets.numpy()"
   ]
  },
  {
   "cell_type": "code",
   "execution_count": 7,
   "id": "0d146e2b",
   "metadata": {},
   "outputs": [
    {
     "data": {
      "text/plain": [
       "array([[0.04285714, 0.05238095, 0.04761905, ..., 0.09047619, 0.04285714,\n",
       "        0.0952381 ],\n",
       "       [0.03333334, 0.03809524, 0.03809524, ..., 0.04761905, 0.03809524,\n",
       "        0.11904763],\n",
       "       [0.04285714, 0.02857143, 0.02857143, ..., 0.05238095, 0.10952381,\n",
       "        0.06190477],\n",
       "       ...,\n",
       "       [0.05238095, 0.04761905, 0.04761905, ..., 0.1904762 , 0.02380952,\n",
       "        0.04761905],\n",
       "       [0.04285714, 0.06666667, 0.06190477, ..., 0.12857144, 0.13809524,\n",
       "        0.03333334],\n",
       "       [0.06190477, 0.07142857, 0.04761905, ..., 0.05238095, 0.09047619,\n",
       "        0.11904763]], dtype=float32)"
      ]
     },
     "execution_count": 7,
     "metadata": {},
     "output_type": "execute_result"
    }
   ],
   "source": [
    "data[1,0,:,:]"
   ]
  },
  {
   "cell_type": "code",
   "execution_count": 8,
   "id": "59a579fa",
   "metadata": {},
   "outputs": [
    {
     "data": {
      "text/plain": [
       "array([[0., 0., 0., ..., 0., 0., 0.],\n",
       "       [0., 0., 0., ..., 0., 0., 0.],\n",
       "       [0., 0., 0., ..., 0., 0., 0.],\n",
       "       ...,\n",
       "       [0., 0., 0., ..., 0., 0., 0.],\n",
       "       [0., 0., 0., ..., 0., 0., 0.],\n",
       "       [0., 0., 0., ..., 0., 0., 0.]], dtype=float32)"
      ]
     },
     "execution_count": 8,
     "metadata": {},
     "output_type": "execute_result"
    }
   ],
   "source": [
    "targets[1,0,:,:]"
   ]
  },
  {
   "cell_type": "code",
   "execution_count": null,
   "id": "69bdd2e1",
   "metadata": {},
   "outputs": [],
   "source": []
  }
 ],
 "metadata": {
  "kernelspec": {
   "display_name": "Python 3 (ipykernel)",
   "language": "python",
   "name": "python3"
  },
  "language_info": {
   "codemirror_mode": {
    "name": "ipython",
    "version": 3
   },
   "file_extension": ".py",
   "mimetype": "text/x-python",
   "name": "python",
   "nbconvert_exporter": "python",
   "pygments_lexer": "ipython3",
   "version": "3.10.4"
  }
 },
 "nbformat": 4,
 "nbformat_minor": 5
}
