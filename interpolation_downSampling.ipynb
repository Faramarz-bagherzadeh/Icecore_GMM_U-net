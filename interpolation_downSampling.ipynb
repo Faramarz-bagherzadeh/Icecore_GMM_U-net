{
 "cells": [
  {
   "cell_type": "code",
   "execution_count": 6,
   "id": "08377bb4",
   "metadata": {},
   "outputs": [],
   "source": [
    "import matplotlib.pyplot as plt\n",
    "import numpy as np\n",
    "import cv2 as cv\n",
    "from torch import nn\n",
    "import skimage as sk\n",
    "from glob import glob\n",
    "import re"
   ]
  },
  {
   "cell_type": "code",
   "execution_count": 7,
   "id": "cf0e2a19",
   "metadata": {},
   "outputs": [
    {
     "name": "stdout",
     "output_type": "stream",
     "text": [
      "5324\n"
     ]
    }
   ],
   "source": [
    "image_list = glob('D://core_1//core_1_GMM_output//*.png')\n",
    "target_path = 'D://core_1//Downsampled_mask//'\n",
    "print (len(image_list))"
   ]
  },
  {
   "cell_type": "code",
   "execution_count": 8,
   "id": "8ac7ede3",
   "metadata": {},
   "outputs": [],
   "source": [
    "# As I used multi core processing for producing the gound truth then list of images has to be sorted accordingly\n",
    "def sorting_path (path):\n",
    "    core_id = int(path.split('core')[-1][0])*10000 + 1000\n",
    "    img_id = int(path.split('img')[-1].split('.png')[0])\n",
    "    return core_id + img_id"
   ]
  },
  {
   "cell_type": "code",
   "execution_count": null,
   "id": "91f93413",
   "metadata": {},
   "outputs": [],
   "source": [
    "# Every two High resolution binary output of the GMM model downsampled (averaged) to one low-resolution \n",
    "j = -1 # a numerator\n",
    "for i in range (len(image_list[:])):\n",
    "    print (image_list[i])\n",
    "    if i % 2 == 0:\n",
    "        mask1 = cv.imread(image_list[i], cv.IMREAD_GRAYSCALE)\n",
    "        mask2 = cv.imread(image_list[i+1], cv.IMREAD_GRAYSCALE)\n",
    "        new_mask = np.zeros((2,mask1.shape[0], mask1.shape[1]))\n",
    "        new_mask [0,:,:] = mask1\n",
    "        new_mask [1,:,:] = mask2\n",
    "        resized_mask = sk.transform.downscale_local_mean(new_mask,(2,2,2) )\n",
    "        resized_mask = resized_mask.reshape(resized_mask.shape[1],resized_mask.shape[2])\n",
    "        print (resized_mask.shape)\n",
    "        j+=1\n",
    "        \n",
    "        # to avoid segmenting the null images (fully black) that has no ice in it we have to skip them manually\n",
    "        starting_num = 50 #number of black images in the begining of the list of images\n",
    "        ending_num = 32 # number of black images in the end of the list of images\n",
    "        \n",
    "        if i > starting_num and i <(len(image_list)-ending_num):\n",
    "            cv.imwrite(target_path+'DownSampled_{}.png'.format(j+20000), resized_mask)\n",
    "            \n",
    "        elif i > (len(image_list)-ending_num):\n",
    "            cv.imwrite(target_path+'DownSampled_{}.png'.format(j+20000), np.zeros_like(resized_mask))\n",
    "            \n",
    "        else:\n",
    "            cv.imwrite(target_path+'DownSampled_{}.png'.format(j+20000), np.zeros_like(resized_mask))"
   ]
  }
 ],
 "metadata": {
  "kernelspec": {
   "display_name": "Python 3 (ipykernel)",
   "language": "python",
   "name": "python3"
  },
  "language_info": {
   "codemirror_mode": {
    "name": "ipython",
    "version": 3
   },
   "file_extension": ".py",
   "mimetype": "text/x-python",
   "name": "python",
   "nbconvert_exporter": "python",
   "pygments_lexer": "ipython3",
   "version": "3.10.4"
  }
 },
 "nbformat": 4,
 "nbformat_minor": 5
}
