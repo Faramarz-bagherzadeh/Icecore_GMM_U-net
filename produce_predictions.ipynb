{
 "cells": [
  {
   "cell_type": "code",
   "execution_count": 1,
   "id": "56f07312",
   "metadata": {},
   "outputs": [],
   "source": [
    "from train import main\n",
    "import numpy as np\n",
    "from PIL import Image\n",
    "import cv2\n",
    "import torch\n",
    "from utils import get_loaders\n",
    "from tqdm import tqdm\n",
    "import matplotlib.pyplot as plt\n",
    "import os\n",
    "from model_V1 import UNET\n",
    "import glob"
   ]
  },
  {
   "cell_type": "code",
   "execution_count": 12,
   "id": "a81f8215",
   "metadata": {},
   "outputs": [],
   "source": [
    "def ordering_path(path):\n",
    "    core_id = int(path.split('//')[-1][0])*10000 + 1000\n",
    "    img_id = path.split('//')[-1]\n",
    "    img_id = int(img_id[img_id.find('(')+len('('):img_id.rfind(')')])\n",
    "    return img_id+core_id\n"
   ]
  },
  {
   "cell_type": "code",
   "execution_count": 2,
   "id": "bf1b22c6",
   "metadata": {},
   "outputs": [
    {
     "data": {
      "text/plain": [
       "<All keys matched successfully>"
      ]
     },
     "execution_count": 2,
     "metadata": {},
     "output_type": "execute_result"
    }
   ],
   "source": [
    "#loading the model shape and weights \n",
    "model = UNET().to('cpu')\n",
    "model.load_state_dict(torch.load('my_checkpoint_final.pth.tar')[\"state_dict\"])"
   ]
  },
  {
   "cell_type": "code",
   "execution_count": 3,
   "id": "fce7194f",
   "metadata": {},
   "outputs": [],
   "source": [
    "#reading images and giving order to the path reader\n",
    "TRAIN_IMG_DIR = \"D /\"\n",
    "TRAIN_MASK_DIR = \"D:// t//\"\n",
    "VAL_IMG_DIR = \"D:// /\"\n",
    "VAL_MASK_DIR = \"D:// /\"\n",
    "\n",
    "\n",
    "TRAIN_IMG_list = glob.glob(TRAIN_IMG_DIR+'*.png')\n",
    "\n",
    "TRAIN_MASK_list = glob.glob(TRAIN_MASK_DIR+'*.png')\n",
    "\n",
    "VAL_IMG_list = glob.glob(VAL_IMG_DIR+'*.png')\n",
    "\n",
    "VAL_MASK_list = glob.glob(VAL_MASK_DIR+'*.png')\n",
    "\n"
   ]
  },
  {
   "cell_type": "code",
   "execution_count": 5,
   "id": "e59c2ab2",
   "metadata": {},
   "outputs": [],
   "source": [
    "def get_prediction(path, model):\n",
    "    image = cv2.imread(path, cv2.IMREAD_GRAYSCALE)\n",
    "    image = cv2.normalize(image, None, alpha=0, beta=1, norm_type=cv2.NORM_MINMAX, dtype=cv2.CV_32F)\n",
    "    image = image.reshape(1,1, image.shape[0],image.shape[1])\n",
    "    image = torch.from_numpy(image)\n",
    "    pred = torch.sigmoid(model(image))\n",
    "    pred = pred.detach().numpy()\n",
    "    pred = pred[0,0,:,:]\n",
    "    return pred\n",
    "\n"
   ]
  },
  {
   "cell_type": "code",
   "execution_count": 11,
   "id": "1ae76951",
   "metadata": {},
   "outputs": [
    {
     "name": "stdout",
     "output_type": "stream",
     "text": [
      "100\r"
     ]
    }
   ],
   "source": [
    "# Get prediction for test set\n",
    "for i, path in enumerate (VAL_IMG_list[:]):\n",
    "    pred = get_prediction(path, model)\n",
    "    cv2.imwrite( 'D://pred_test//' + path.split('\\\\')[-1],pred)\n",
    "    print (round(i*100/len(VAL_IMG_list)), end=\"\\r\")"
   ]
  },
  {
   "cell_type": "code",
   "execution_count": 13,
   "id": "83c92c22",
   "metadata": {},
   "outputs": [
    {
     "name": "stdout",
     "output_type": "stream",
     "text": [
      "100\r"
     ]
    }
   ],
   "source": [
    "# Get prediction for train set\n",
    "for i, path in enumerate (TRAIN_IMG_list[:]):\n",
    "    pred = get_prediction(path, model)\n",
    "    cv2.imwrite( 'D://pred_train//' + path.split('\\\\')[-1],pred)\n",
    "    print (round(i*100/len(TRAIN_IMG_list)), end=\"\\r\")"
   ]
  },
  {
   "cell_type": "code",
   "execution_count": null,
   "id": "65f43b5a",
   "metadata": {},
   "outputs": [],
   "source": []
  }
 ],
 "metadata": {
  "kernelspec": {
   "display_name": "Python 3 (ipykernel)",
   "language": "python",
   "name": "python3"
  },
  "language_info": {
   "codemirror_mode": {
    "name": "ipython",
    "version": 3
   },
   "file_extension": ".py",
   "mimetype": "text/x-python",
   "name": "python",
   "nbconvert_exporter": "python",
   "pygments_lexer": "ipython3",
   "version": "3.10.4"
  }
 },
 "nbformat": 4,
 "nbformat_minor": 5
}
